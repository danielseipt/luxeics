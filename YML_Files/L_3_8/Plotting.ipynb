{
 "cells": [
  {
   "cell_type": "code",
   "execution_count": 11,
   "id": "37478ef0",
   "metadata": {},
   "outputs": [],
   "source": [
    "from tkinter import *\n",
    "from tkinter import filedialog\n",
    "root = Tk()\n",
    "def open():\n",
    "    root.filename = filedialog.askopenfilename(title= 'Select a File')\n",
    "    root.mainloop()   \n",
    "    return(root.filename)"
   ]
  },
  {
   "cell_type": "code",
   "execution_count": 12,
   "id": "48b468b8",
   "metadata": {},
   "outputs": [
    {
     "name": "stdout",
     "output_type": "stream",
     "text": [
      "C:/Users/Dupish/Documents/GitHub/luxeics/Photon_Density/First_Run/Photon_Density_Spotsize5.txt\n",
      "                   0    1                   2\n",
      "0    Photon Density   W_0          Energy(mJ)\n",
      "1  58.10446587276541  5.0         100.0080756\n",
      "2  58.26006910580344  6.0  100.00807559999997\n",
      "3  55.41751845954609  7.0  100.00807559999997\n",
      "4   48.4147855596434  8.0  100.00807559999997\n"
     ]
    }
   ],
   "source": [
    "'''\n",
    "Reading the text files\n",
    "The final array p does not contain the Header files\n",
    "\n",
    "'''\n",
    "import pandas as pd\n",
    "path=open()\n",
    "print(path)\n",
    "print(pd.read_csv(path,header=None , sep=\"\\t\"))\n",
    "\n",
    "r=pd.read_csv(f'{path}',header=0 , sep=\"\\t\")\n",
    "Pd_5=pd.DataFrame.to_numpy(r)"
   ]
  },
  {
   "cell_type": "code",
   "execution_count": 13,
   "id": "8b80e00d",
   "metadata": {},
   "outputs": [
    {
     "name": "stdout",
     "output_type": "stream",
     "text": [
      "C:/Users/Dupish/Documents/GitHub/luxeics/Photon_Density/Sigmax_Sigmay10/Photon_Density_Spotsize5.txt\n",
      "                    0    1                   2\n",
      "0     Photon Density   W_0          Energy(mJ)\n",
      "1  18.919124651834764  5.0         100.0080756\n",
      "2  23.722142395317153  6.0  100.00807559999997\n",
      "3  15.085980789174474  7.0  100.00807559999997\n",
      "4   19.48791083888792  8.0  100.00807559999997\n"
     ]
    }
   ],
   "source": [
    "'''\n",
    "Reading the text files\n",
    "The final array p does not contain the Header files\n",
    "\n",
    "'''\n",
    "import pandas as pd\n",
    "path=open()\n",
    "print(path)\n",
    "print(pd.read_csv(path,header=None , sep=\"\\t\"))\n",
    "\n",
    "r=pd.read_csv(f'{path}',header=0 , sep=\"\\t\")\n",
    "Pd_10=pd.DataFrame.to_numpy(r)"
   ]
  },
  {
   "cell_type": "code",
   "execution_count": 14,
   "id": "cafbf14a",
   "metadata": {},
   "outputs": [
    {
     "name": "stdout",
     "output_type": "stream",
     "text": [
      "C:/Users/Dupish/Documents/GitHub/luxeics/Photon_Density/Sigmax_Sigmay15/Photon_Density_Spotsize5.txt\n",
      "                    0    1                   2\n",
      "0     Photon Density   W_0          Energy(mJ)\n",
      "1   13.70097431931838  5.0         100.0080756\n",
      "2  10.950144048912799  6.0  100.00807559999997\n",
      "3  13.055277909216304  7.0  100.00807559999997\n",
      "4   11.19771231880263  8.0  100.00807559999997\n"
     ]
    }
   ],
   "source": [
    "'''\n",
    "Reading the text files\n",
    "The final array p does not contain the Header files\n",
    "\n",
    "'''\n",
    "import pandas as pd\n",
    "path=open()\n",
    "print(path)\n",
    "print(pd.read_csv(path,header=None , sep=\"\\t\"))\n",
    "\n",
    "r=pd.read_csv(f'{path}',header=0 , sep=\"\\t\")\n",
    "Pd_15=pd.DataFrame.to_numpy(r)"
   ]
  },
  {
   "cell_type": "code",
   "execution_count": 15,
   "id": "054cf1bc",
   "metadata": {},
   "outputs": [
    {
     "name": "stdout",
     "output_type": "stream",
     "text": [
      "C:/Users/Dupish/Documents/GitHub/luxeics/Photon_Density/Sigmax_Sigmay20/Photon_Density_Spotsize5.txt\n",
      "                   0    1                   2\n",
      "0    Photon Density   W_0          Energy(mJ)\n",
      "1  6.211619859622065  5.0         100.0080756\n",
      "2  6.590744145002592  6.0  100.00807559999997\n",
      "3   3.88251650695325  7.0  100.00807559999997\n",
      "4  6.273751484156768  8.0  100.00807559999997\n"
     ]
    }
   ],
   "source": [
    "'''\n",
    "Reading the text files\n",
    "The final array p does not contain the Header files\n",
    "\n",
    "'''\n",
    "import pandas as pd\n",
    "path=open()\n",
    "print(path)\n",
    "print(pd.read_csv(path,header=None , sep=\"\\t\"))\n",
    "\n",
    "r=pd.read_csv(f'{path}',header=0 , sep=\"\\t\")\n",
    "Pd_20=pd.DataFrame.to_numpy(r)"
   ]
  },
  {
   "cell_type": "code",
   "execution_count": 16,
   "id": "8f516483",
   "metadata": {},
   "outputs": [
    {
     "name": "stdout",
     "output_type": "stream",
     "text": [
      "C:/Users/Dupish/Documents/GitHub/luxeics/Photon_Density/Sigmax_Sigmay25/Photon_Density_Spotsize5.txt\n",
      "                    0    1                   2\n",
      "0     Photon Density   W_0          Energy(mJ)\n",
      "1   4.643627468863587  5.0         100.0080756\n",
      "2  3.1251981776508537  6.0  100.00807559999997\n",
      "3   3.809069586965703  7.0  100.00807559999997\n",
      "4   4.460226207864918  8.0  100.00807559999997\n"
     ]
    }
   ],
   "source": [
    "'''\n",
    "Reading the text files\n",
    "The final array p does not contain the Header files\n",
    "\n",
    "'''\n",
    "import pandas as pd\n",
    "path=open()\n",
    "print(path)\n",
    "print(pd.read_csv(path,header=None , sep=\"\\t\"))\n",
    "\n",
    "r=pd.read_csv(f'{path}',header=0 , sep=\"\\t\")\n",
    "Pd_25=pd.DataFrame.to_numpy(r)"
   ]
  },
  {
   "cell_type": "code",
   "execution_count": 17,
   "id": "b030dbc4",
   "metadata": {},
   "outputs": [],
   "source": [
    "# '''\n",
    "# Reading the text files\n",
    "# The final array p does not contain the Header files\n",
    "\n",
    "# '''\n",
    "# import pandas as pd\n",
    "# path=open()\n",
    "# print(path)\n",
    "# print(pd.read_csv(path,header=None , sep=\"\\t\"))\n",
    "\n",
    "# r=pd.read_csv(f'{path}',header=0 , sep=\"\\t\")\n",
    "# Pd_10_V_1=pd.DataFrame.to_numpy(r)"
   ]
  },
  {
   "cell_type": "code",
   "execution_count": 18,
   "id": "1266a190",
   "metadata": {},
   "outputs": [],
   "source": [
    "\n",
    "# '''\n",
    "# Reading the text files\n",
    "# The final array p does not contain the Header files\n",
    "\n",
    "# '''\n",
    "# import pandas as pd\n",
    "# path=open()\n",
    "# print(path)\n",
    "# print(pd.read_csv(path,header=None , sep=\"\\t\"))\n",
    "\n",
    "# r=pd.read_csv(f'{path}',header=0 , sep=\"\\t\")\n",
    "# Pd_10_V_2=pd.DataFrame.to_numpy(r)"
   ]
  },
  {
   "cell_type": "code",
   "execution_count": 19,
   "id": "3ee9115e",
   "metadata": {},
   "outputs": [],
   "source": [
    "\n",
    "# '''\n",
    "# Reading the text files\n",
    "# The final array p does not contain the Header files\n",
    "\n",
    "# '''\n",
    "# import pandas as pd\n",
    "# path=r\"C:\\Users\\Dupish\\Documents\\GitHub\\luxeics\\Photon_Density\\Energy_Conserved_Para_Run_18_10_21\\Photon_Density_Spotsize3.txt\"\n",
    "# print(pd.read_csv(path,header=None , sep=\"\\t\"))\n",
    "\n",
    "# r=pd.read_csv(f'{path}',header=0 , sep=\"\\t\")\n",
    "# Pd_E_Conserved_3=pd.DataFrame.to_numpy(r)"
   ]
  },
  {
   "cell_type": "code",
   "execution_count": 20,
   "id": "10c77f50",
   "metadata": {},
   "outputs": [],
   "source": [
    "\n",
    "# '''\n",
    "# Reading the text files\n",
    "# The final array p does not contain the Header files\n",
    "\n",
    "# '''\n",
    "# import pandas as pd\n",
    "# path=r\"C:\\Users\\Dupish\\Documents\\GitHub\\luxeics\\Photon_Density\\Energy_Conserved_Para_Run_18_10_21\\Photon_Density_Spotsize10.txt\"\n",
    "# print(pd.read_csv(path,header=None , sep=\"\\t\"))\n",
    "\n",
    "# r=pd.read_csv(f'{path}',header=0 , sep=\"\\t\")\n",
    "# Pd_E_Conserved_10=pd.DataFrame.to_numpy(r)"
   ]
  },
  {
   "cell_type": "code",
   "execution_count": 18,
   "id": "96de333a",
   "metadata": {
    "scrolled": false
   },
   "outputs": [
    {
     "data": {
      "image/png": "[encoded data removed]",
      "text/plain": [
       "<Figure size 640x480 with 1 Axes>"
      ]
     },
     "metadata": {
      "needs_background": "light"
     },
     "output_type": "display_data"
    }
   ],
   "source": [
    "import matplotlib.pyplot as plt\n",
    "import os\n",
    "plt.figure(figsize=(8, 6), dpi=80)\n",
    "plt.plot(Pd_5[:,1],Pd_5[:,0],label=\"$\\sigma_x=\\sigma_y=5$ $\\mu$m\",c='b')\n",
    "\n",
    "plt.plot(Pd_10[:,1],Pd_10[:,0],label=\"$\\sigma_x=\\sigma_y=10$ $\\mu$m\",c='r')\n",
    "plt.plot(Pd_15[:,1],Pd_15[:,0],label=\"$\\sigma_x=\\sigma_y=15$ $\\mu$m\",c='g')\n",
    "plt.plot(Pd_20[:,1],Pd_20[:,0],label=\"$\\sigma_x=\\sigma_y=20$ $\\mu$m\",c='y')\n",
    "plt.plot(Pd_25[:,1],Pd_25[:,0],label=\"$\\sigma_x=\\sigma_y=25$ $\\mu$m\")\n",
    "# plt.plot(Pd_E_Conserved_3[:,1],Pd_E_Conserved_3[:,0],label='$w_0$ = $\\sigma_T$, Energy Constant',c='g')\n",
    "# plt.plot(Pd_3_V_1[:,1],Pd_10_V_1[:,0],label='Spotsize 10 $\\mu$m Luxeics 1.0' ,c='r')\n",
    "\n",
    "# plt.plot(Pd_10_V_2[:,1],Pd_10_V_2[:,0],'--',label='Spotsize 10 $\\mu$m Luxeics 1.1',c='r')\n",
    "\n",
    "\n",
    "\n",
    "# plt.plot(Pd_SigmaT_10[:,1],Pd_SigmaT_10[:,0],'--',c='b')\n",
    "\n",
    "# plt.plot(Pd_SigmaT_w0_10[:,1],Pd_SigmaT_w0_10[:,0],'--',c='r')\n",
    "\n",
    "#plt.plot(Pd_E_Conserved_10[:,1],Pd_E_Conserved_10[:,0],'--',c='g')\n",
    "\n",
    "\n",
    "\n",
    "\n",
    "\n",
    "#plt.xlabel(r'Electron Beam Size $\\sigma_T$ (micron) ')\n",
    "plt.xlabel(r'Laser Beam Size $w_0$ ($\\mu$m)  ')\n",
    "#plt.ylabel(r'Photon Areal Density  ')\n",
    "plt.ylabel(r'Photon Areal Density ($\\mu$m$^{-2}$)')\n",
    "# plt.yscale('log')\n",
    "# plt.xscale('log')\n",
    "plt.title(f' $Electron$ $Beam$ $Focussed$ $at$ $L = 0 m$ \\n Pulse Energy = 100 mJ  ')\n",
    "plt.legend()\n",
    "\n",
    "\n",
    "path=f'{os.getcwd()}{os.sep}Photon_Density'\n",
    "plt.savefig(f'LinearVsLinear_14_1.png',dpi=200)\n",
    "\n"
   ]
  },
  {
   "cell_type": "code",
   "execution_count": null,
   "id": "78f39b94",
   "metadata": {},
   "outputs": [],
   "source": []
  }
 ],
 "metadata": {
  "kernelspec": {
   "display_name": "Python 3",
   "language": "python",
   "name": "python3"
  },
  "language_info": {
   "codemirror_mode": {
    "name": "ipython",
    "version": 3
   },
   "file_extension": ".py",
   "mimetype": "text/x-python",
   "name": "python",
   "nbconvert_exporter": "python",
   "pygments_lexer": "ipython3",
   "version": "3.8.8"
  }
 },
 "nbformat": 4,
 "nbformat_minor": 5
}

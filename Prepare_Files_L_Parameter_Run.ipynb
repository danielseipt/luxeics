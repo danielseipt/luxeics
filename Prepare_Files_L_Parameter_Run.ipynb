{
 "cells": [
  {
   "cell_type": "code",
   "execution_count": 13,
   "id": "24d3c40d",
   "metadata": {
    "scrolled": false
   },
   "outputs": [
    {
     "name": "stdout",
     "output_type": "stream",
     "text": [
      "Path = C:\\Users\\Dupish\\Documents\\GitHub\\luxeics\\Photon_Density\\L_Para_Run\n",
      "Process Initiated\n",
      "!Files Ready!\n"
     ]
    }
   ],
   "source": [
    "import os\n",
    "import yaml\n",
    "input_filename = f\"{os.getcwd()}{os.sep}YML_Files{os.sep}L_Para_Run\"\n",
    "with open( input_filename + '.yml', 'r' ) as stream:\n",
    "               \n",
    "            \n",
    "            \n",
    "            input_dict = yaml.load(stream, Loader=yaml.SafeLoader)\n",
    "            \n",
    "\n",
    "            directory\t=input_dict['control']['folder']\n",
    "            \n",
    "\n",
    "\n",
    "parent_dir = f\"{os. getcwd()}{os.sep}Photon_Density\"\n",
    "path1 = os.path.join(parent_dir, directory)\n",
    "os.mkdir(path1)\n",
    "\n",
    "\n",
    "\n",
    "print(f\"Path = {path1}\")\n",
    "\n",
    "\n",
    "\n",
    "path = os.path.join(path1, \"Yml_Files\")\n",
    "os.mkdir(path)\n",
    "\n",
    "\n",
    "\n",
    "\n",
    "n = 10            # Number of times the parameters are changed\n",
    "r = 1             #  Number of runs\n",
    "\n",
    "\n",
    "\n",
    "with open( input_filename + '.yml', 'r' ) as stream:\n",
    "               \n",
    "            \n",
    "            \n",
    "            input_dict = yaml.load(stream, Loader=yaml.SafeLoader)\n",
    "            \n",
    "            \n",
    "                    \n",
    "del_L=7.5e5\n",
    "L=0\n",
    "print(\"Process Initiated\")\n",
    "\n",
    "\n",
    "for j in range(r):\n",
    "    for i in range(n):\n",
    "        with open( input_filename + '.yml', 'r' ) as stream:\n",
    "               \n",
    "            \n",
    "            \n",
    "            input_dict = yaml.load(stream, Loader=yaml.SafeLoader)\n",
    "            L= L+del_L\n",
    "            #input_dict['beam']['sigmaT']= Sigma\n",
    "            input_dict['beam']['L']\t= L\n",
    "            \n",
    "            input_dict['control']['name']=f'{path1}{os.sep}H_Five{os.sep}L{L}_{j}'\n",
    "            \n",
    "            #input_filename1 = f'SigmaT{sigma1}'\n",
    "\t    \n",
    "\t    \n",
    "\n",
    "\n",
    "\n",
    "        with open(      f'{path}{os.sep}L{L}_{j}'+'.yml', 'w') as file:\n",
    "            documents = yaml.dump(input_dict, file)\n",
    "\n",
    "        \n",
    "\n",
    "        \n",
    "\n",
    "\n",
    "         \n",
    "print (\"!Files Ready!\" )"
   ]
  },
  {
   "cell_type": "code",
   "execution_count": 4,
   "id": "cca11d22",
   "metadata": {},
   "outputs": [
    {
     "name": "stdout",
     "output_type": "stream",
     "text": [
      "0.21267446691250244\n"
     ]
    }
   ],
   "source": [
    "print(constant)"
   ]
  },
  {
   "cell_type": "markdown",
   "id": "f5453f2d",
   "metadata": {},
   "source": [
    "# Preparing .yaml files\n",
    "The following program prepares the .yaml files from the \"New.yaml\" file that is in the luxeics folder."
   ]
  },
  {
   "cell_type": "code",
   "execution_count": 1,
   "id": "f23306cb",
   "metadata": {},
   "outputs": [
    {
     "name": "stdout",
     "output_type": "stream",
     "text": [
      "Path = C:\\Users\\Dupish\\Documents\\GitHub\\luxeics\\Photon_Density\\Run\n"
     ]
    }
   ],
   "source": [
    "import os\n",
    "\n",
    "\n",
    "input_filename = \"New\"\n",
    "directory = \"Run10\"\n",
    "parent_dir = f\"{os. getcwd()}{os.sep}Photon_Density\"\n",
    "path = os.path.join(parent_dir, directory)\n",
    "os.mkdir(path)\n",
    "print(f\"Path = {path}\")\n"
   ]
  },
  {
   "cell_type": "markdown",
   "id": "a35675aa",
   "metadata": {},
   "source": [
    "r here decides the number runs that must be executed for a set of parameters. This is done in order to calculate errors.\n",
    "\n"
   ]
  },
  {
   "cell_type": "code",
   "execution_count": 2,
   "id": "fc5e53be",
   "metadata": {},
   "outputs": [
    {
     "name": "stdout",
     "output_type": "stream",
     "text": [
      "Energy:0\n"
     ]
    }
   ],
   "source": [
    "\n",
    "\n",
    "n = 10             # Number of times the parameters are changed\n",
    "r = 10             #  Number of runs\n",
    "\n",
    "'''\n",
    "\n",
    "Energy= I0 * pi* (w0 **2)* T_fwhm\n",
    "I0= (omega*m*a0)**2/(8*pi*alpha)\n",
    "\n",
    "a0*w0= constant\n",
    "\n",
    "'''\n",
    "\n",
    "a0=0.1       \n",
    "w0=0.2\n",
    "\n",
    "constant = a0 * w0\n",
    "Energy = 0\n",
    "print(f\"Energy:{Energy}\")"
   ]
  },
  {
   "cell_type": "markdown",
   "id": "fa2cff5a",
   "metadata": {},
   "source": [
    "The Following cell changes the following:\n",
    "    1. w0 (from 5 to 40 in steps of 5) \n",
    "    2. Sigma T(from 5 to 40 in steps of 5)\n",
    "    3. a0 using w0 and constant"
   ]
  },
  {
   "cell_type": "code",
   "execution_count": 3,
   "id": "090cea8b",
   "metadata": {},
   "outputs": [
    {
     "name": "stdout",
     "output_type": "stream",
     "text": [
      "Process Initiated\n",
      "!Files Ready!\n"
     ]
    }
   ],
   "source": [
    "import yaml\n",
    "print(\"Process Initiated\")\n",
    "for j in range(r):\n",
    "    for i in range(n):\n",
    "        with open( input_filename + '.yml', 'r' ) as stream:\n",
    "               \n",
    "            \n",
    "            \n",
    "            input_dict = yaml.load(stream, Loader=yaml.SafeLoader)\n",
    "            sigma1= 5+i*5\n",
    "\n",
    "            input_dict['beam']['sigmaT']=sigma1\n",
    "            input_dict['control']['name']=f'{path}{os.sep}SigmaT{sigma1}'\n",
    "            input_dict['laser']['w0']=sigma1\n",
    "            input_dict['laser']['a0']=constant/sigma1\n",
    "            input_filename1 = f'SigmaT{sigma1}'\n",
    "            input_dict['control']['Path']=f'{path}'\n",
    "\n",
    "\n",
    "        with open(      f'{path}{os.sep}SigmaT{sigma1}'+'.yml', 'w') as file:\n",
    "            documents = yaml.dump(input_dict, file)\n",
    "\n",
    "        \n",
    "\n",
    "        \n",
    "\n",
    "\n",
    "        \n",
    "print (\"!Files Ready!\" )"
   ]
  },
  {
   "cell_type": "code",
   "execution_count": null,
   "id": "b2bb14a7",
   "metadata": {},
   "outputs": [],
   "source": []
  }
 ],
 "metadata": {
  "kernelspec": {
   "display_name": "Python 3",
   "language": "python",
   "name": "python3"
  },
  "language_info": {
   "codemirror_mode": {
    "name": "ipython",
    "version": 3
   },
   "file_extension": ".py",
   "mimetype": "text/x-python",
   "name": "python",
   "nbconvert_exporter": "python",
   "pygments_lexer": "ipython3",
   "version": "3.8.8"
  }
 },
 "nbformat": 4,
 "nbformat_minor": 5
}

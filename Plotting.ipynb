{
 "cells": [
  {
   "cell_type": "code",
   "execution_count": 1,
   "id": "37478ef0",
   "metadata": {},
   "outputs": [],
   "source": [
    "from tkinter import *\n",
    "from tkinter import filedialog\n",
    "root = Tk()\n",
    "def open():\n",
    "    root.filename = filedialog.askopenfilename(title= 'Select a File')\n",
    "    root.mainloop()   \n",
    "    return(root.filename)"
   ]
  },
  {
   "cell_type": "code",
   "execution_count": 26,
   "id": "48b468b8",
   "metadata": {},
   "outputs": [
    {
     "name": "stdout",
     "output_type": "stream",
     "text": [
      "C:/Users/Dupish/Documents/GitHub/luxeics/Photon_Density/First_Run/Photon_Density_Spotsize5.txt\n",
      "                      0     1                   2\n",
      "0       Photon Density    W_0          Energy(mJ)\n",
      "1   0.46298301934030367   5.0         100.0080756\n",
      "2    0.7272118124438421   6.0  100.00807559999997\n",
      "3   0.45367357567009997   7.0  100.00807559999997\n",
      "4    0.6072612606760501   8.0  100.00807559999997\n",
      "5    0.6719597050068352   9.0  100.00807559999997\n",
      "6    0.5865465653889328  10.0         100.0080756\n",
      "7    0.5883176218564181  11.0  100.00807559999997\n",
      "8    0.7181659871792753  12.0  100.00807559999997\n",
      "9    0.6568765752700864  13.0         100.0080756\n",
      "10   0.7389754904106098  14.0  100.00807559999997\n",
      "11   0.6251499905658134  15.0  100.00807559999997\n",
      "12   0.6071428487485877  16.0  100.00807559999997\n",
      "13   0.7213472694039009  17.0         100.0080756\n",
      "14   0.6662931281024935  18.0  100.00807559999997\n",
      "15   0.6500297014927301  19.0  100.00807559999997\n",
      "16   0.6439689608321257  20.0         100.0080756\n"
     ]
    }
   ],
   "source": [
    "'''\n",
    "Reading the text files\n",
    "The final array p does not contain the Header files\n",
    "\n",
    "'''\n",
    "import pandas as pd\n",
    "path=open()\n",
    "print(path)\n",
    "print(pd.read_csv(path,header=None , sep=\"\\t\"))\n",
    "\n",
    "r=pd.read_csv(f'{path}',header=0 , sep=\"\\t\")\n",
    "Pd_5=pd.DataFrame.to_numpy(r)"
   ]
  },
  {
   "cell_type": "code",
   "execution_count": 6,
   "id": "8b80e00d",
   "metadata": {},
   "outputs": [
    {
     "name": "stdout",
     "output_type": "stream",
     "text": [
      "C:/Users/Dupish/Documents/GitHub/luxeics/Photon_Density/Sigmax_Sigmay10/Photon_Density_Spotsize5.txt\n",
      "                     0     1                   2\n",
      "0      Photon Density    W_0          Energy(mJ)\n",
      "1     2.58169495416332   5.0         100.0080756\n",
      "2   2.3510596195577325   6.0  100.00807559999997\n",
      "3   1.3848990827990362   7.0  100.00807559999997\n",
      "4   2.1249733414425394   8.0  100.00807559999997\n",
      "5   3.0378406140677794   9.0  100.00807559999997\n",
      "6     2.04584380461746  10.0         100.0080756\n",
      "7   1.9693074498332728  11.0  100.00807559999997\n",
      "8   1.8096332104113868  12.0  100.00807559999997\n",
      "9    2.532660342860761  13.0         100.0080756\n",
      "10  1.6147724176139369  14.0  100.00807559999997\n",
      "11  2.6056346020023655  15.0  100.00807559999997\n",
      "12   2.089491217382254  16.0  100.00807559999997\n",
      "13   2.330551935197984  17.0         100.0080756\n",
      "14   2.286403343298653  18.0  100.00807559999997\n",
      "15  1.9881285369135429  19.0  100.00807559999997\n",
      "16  2.0785378685673175  20.0         100.0080756\n"
     ]
    }
   ],
   "source": [
    "'''\n",
    "Reading the text files\n",
    "The final array p does not contain the Header files\n",
    "\n",
    "'''\n",
    "import pandas as pd\n",
    "path=open()\n",
    "print(path)\n",
    "print(pd.read_csv(path,header=None , sep=\"\\t\"))\n",
    "\n",
    "r=pd.read_csv(f'{path}',header=0 , sep=\"\\t\")\n",
    "Pd_10=pd.DataFrame.to_numpy(r)"
   ]
  },
  {
   "cell_type": "code",
   "execution_count": 27,
   "id": "cafbf14a",
   "metadata": {},
   "outputs": [
    {
     "name": "stdout",
     "output_type": "stream",
     "text": [
      "C:/Users/Dupish/Documents/GitHub/luxeics/Photon_Density/Sigmax_Sigmay15/Photon_Density_Spotsize5.txt\n",
      "                     0     1                   2\n",
      "0      Photon Density    W_0          Energy(mJ)\n",
      "1    4.115787890293033   5.0         100.0080756\n",
      "2    4.437678228333657   6.0  100.00807559999997\n",
      "3   3.7111087599911112   7.0  100.00807559999997\n",
      "4    3.562334030729178   8.0  100.00807559999997\n",
      "5   3.7148543713214055   9.0  100.00807559999997\n",
      "6    3.876504539335226  10.0         100.0080756\n",
      "7   3.9769162190400307  11.0  100.00807559999997\n",
      "8    3.687574414014344  12.0  100.00807559999997\n",
      "9    3.720879818426887  13.0         100.0080756\n",
      "10  3.5462241160037298  14.0  100.00807559999997\n",
      "11   3.679962863795072  15.0  100.00807559999997\n",
      "12  3.5277060908745472  16.0  100.00807559999997\n",
      "13  3.5815981396941914  17.0         100.0080756\n",
      "14   3.535677486128421  18.0  100.00807559999997\n",
      "15  3.5062415607524025  19.0  100.00807559999997\n",
      "16   3.556591737199915  20.0         100.0080756\n"
     ]
    }
   ],
   "source": [
    "'''\n",
    "Reading the text files\n",
    "The final array p does not contain the Header files\n",
    "\n",
    "'''\n",
    "import pandas as pd\n",
    "path=open()\n",
    "print(path)\n",
    "print(pd.read_csv(path,header=None , sep=\"\\t\"))\n",
    "\n",
    "r=pd.read_csv(f'{path}',header=0 , sep=\"\\t\")\n",
    "Pd_15=pd.DataFrame.to_numpy(r)"
   ]
  },
  {
   "cell_type": "code",
   "execution_count": 8,
   "id": "054cf1bc",
   "metadata": {},
   "outputs": [
    {
     "name": "stdout",
     "output_type": "stream",
     "text": [
      "C:/Users/Dupish/Documents/GitHub/luxeics/Photon_Density/Sigmax_Sigmay20/Photon_Density_Spotsize5.txt\n",
      "                     0     1                   2\n",
      "0      Photon Density    W_0          Energy(mJ)\n",
      "1   2.8083824618609765   5.0         100.0080756\n",
      "2    5.975108995147213   6.0  100.00807559999997\n",
      "3   3.5296203949390947   7.0  100.00807559999997\n",
      "4   3.8838668871928186   8.0  100.00807559999997\n",
      "5    4.158173153765977   9.0  100.00807559999997\n",
      "6   3.3741856142771787  10.0         100.0080756\n",
      "7    4.002198735654603  11.0  100.00807559999997\n",
      "8    3.798542235034193  12.0  100.00807559999997\n",
      "9    4.183266692447973  13.0         100.0080756\n",
      "10  3.4522296938618724  14.0  100.00807559999997\n",
      "11   4.290864640903295  15.0  100.00807559999997\n",
      "12   4.247800967458284  16.0  100.00807559999997\n",
      "13  3.6690093057685402  17.0         100.0080756\n",
      "14   2.982529953361495  18.0  100.00807559999997\n",
      "15  3.5221427254662365  19.0  100.00807559999997\n",
      "16   4.204566127392889  20.0         100.0080756\n"
     ]
    }
   ],
   "source": [
    "'''\n",
    "Reading the text files\n",
    "The final array p does not contain the Header files\n",
    "\n",
    "'''\n",
    "import pandas as pd\n",
    "path=open()\n",
    "print(path)\n",
    "print(pd.read_csv(path,header=None , sep=\"\\t\"))\n",
    "\n",
    "r=pd.read_csv(f'{path}',header=0 , sep=\"\\t\")\n",
    "Pd_20=pd.DataFrame.to_numpy(r)"
   ]
  },
  {
   "cell_type": "code",
   "execution_count": 16,
   "id": "8f516483",
   "metadata": {},
   "outputs": [
    {
     "name": "stdout",
     "output_type": "stream",
     "text": [
      "C:/Users/Dupish/Documents/GitHub/luxeics/Photon_Density/Sigmax_Sigmay25/Photon_Density_Spotsize5.txt\n",
      "                     0     1                   2\n",
      "0      Photon Density    W_0          Energy(mJ)\n",
      "1     3.51778769752319   5.0         100.0080756\n",
      "2   3.7552747910337225   6.0  100.00807559999997\n",
      "3   2.6587896939385383   7.0  100.00807559999997\n",
      "4    3.347119674677894   8.0  100.00807559999997\n",
      "5   3.0179095825283366   9.0  100.00807559999997\n",
      "6    4.187421673998524  10.0         100.0080756\n",
      "7   2.8564043545789453  11.0  100.00807559999997\n",
      "8   2.5804488419729954  12.0  100.00807559999997\n",
      "9   3.7567209631011744  13.0         100.0080756\n",
      "10    3.02155839133377  14.0  100.00807559999997\n",
      "11  3.1169531679086337  15.0  100.00807559999997\n",
      "12   3.251717254801039  16.0  100.00807559999997\n",
      "13   3.211179442541246  17.0         100.0080756\n",
      "14  2.9719502324528175  18.0  100.00807559999997\n",
      "15   2.809739672188075  19.0  100.00807559999997\n",
      "16   2.744015603527908  20.0         100.0080756\n"
     ]
    }
   ],
   "source": [
    "'''\n",
    "Reading the text files\n",
    "The final array p does not contain the Header files\n",
    "\n",
    "'''\n",
    "import pandas as pd\n",
    "path=open()\n",
    "print(path)\n",
    "print(pd.read_csv(path,header=None , sep=\"\\t\"))\n",
    "\n",
    "r=pd.read_csv(f'{path}',header=0 , sep=\"\\t\")\n",
    "Pd_25=pd.DataFrame.to_numpy(r)"
   ]
  },
  {
   "cell_type": "code",
   "execution_count": 17,
   "id": "b030dbc4",
   "metadata": {},
   "outputs": [],
   "source": [
    "# '''\n",
    "# Reading the text files\n",
    "# The final array p does not contain the Header files\n",
    "\n",
    "# '''\n",
    "# import pandas as pd\n",
    "# path=open()\n",
    "# print(path)\n",
    "# print(pd.read_csv(path,header=None , sep=\"\\t\"))\n",
    "\n",
    "# r=pd.read_csv(f'{path}',header=0 , sep=\"\\t\")\n",
    "# Pd_10_V_1=pd.DataFrame.to_numpy(r)"
   ]
  },
  {
   "cell_type": "code",
   "execution_count": 18,
   "id": "1266a190",
   "metadata": {},
   "outputs": [],
   "source": [
    "\n",
    "# '''\n",
    "# Reading the text files\n",
    "# The final array p does not contain the Header files\n",
    "\n",
    "# '''\n",
    "# import pandas as pd\n",
    "# path=open()\n",
    "# print(path)\n",
    "# print(pd.read_csv(path,header=None , sep=\"\\t\"))\n",
    "\n",
    "# r=pd.read_csv(f'{path}',header=0 , sep=\"\\t\")\n",
    "# Pd_10_V_2=pd.DataFrame.to_numpy(r)"
   ]
  },
  {
   "cell_type": "code",
   "execution_count": 19,
   "id": "3ee9115e",
   "metadata": {},
   "outputs": [],
   "source": [
    "\n",
    "# '''\n",
    "# Reading the text files\n",
    "# The final array p does not contain the Header files\n",
    "\n",
    "# '''\n",
    "# import pandas as pd\n",
    "# path=r\"C:\\Users\\Dupish\\Documents\\GitHub\\luxeics\\Photon_Density\\Energy_Conserved_Para_Run_18_10_21\\Photon_Density_Spotsize3.txt\"\n",
    "# print(pd.read_csv(path,header=None , sep=\"\\t\"))\n",
    "\n",
    "# r=pd.read_csv(f'{path}',header=0 , sep=\"\\t\")\n",
    "# Pd_E_Conserved_3=pd.DataFrame.to_numpy(r)"
   ]
  },
  {
   "cell_type": "code",
   "execution_count": 20,
   "id": "10c77f50",
   "metadata": {},
   "outputs": [],
   "source": [
    "\n",
    "# '''\n",
    "# Reading the text files\n",
    "# The final array p does not contain the Header files\n",
    "\n",
    "# '''\n",
    "# import pandas as pd\n",
    "# path=r\"C:\\Users\\Dupish\\Documents\\GitHub\\luxeics\\Photon_Density\\Energy_Conserved_Para_Run_18_10_21\\Photon_Density_Spotsize10.txt\"\n",
    "# print(pd.read_csv(path,header=None , sep=\"\\t\"))\n",
    "\n",
    "# r=pd.read_csv(f'{path}',header=0 , sep=\"\\t\")\n",
    "# Pd_E_Conserved_10=pd.DataFrame.to_numpy(r)"
   ]
  },
  {
   "cell_type": "code",
   "execution_count": 28,
   "id": "96de333a",
   "metadata": {
    "scrolled": false
   },
   "outputs": [
    {
     "data": {
      "image/png": "[encoded data removed]",
      "text/plain": [
       "<Figure size 640x480 with 1 Axes>"
      ]
     },
     "metadata": {
      "needs_background": "light"
     },
     "output_type": "display_data"
    }
   ],
   "source": [
    "import matplotlib.pyplot as plt\n",
    "import os\n",
    "plt.figure(figsize=(8, 6), dpi=80)\n",
    "plt.plot(Pd_5[:,1],Pd_5[:,0],label=\"$\\sigma_x=\\sigma_y=5$ $\\mu$m\",c='b')\n",
    "\n",
    "#plt.plot(Pd_10[:,1],Pd_10[:,0],label=\"$\\sigma_x=\\sigma_y=10$ $\\mu$m\",c='r')\n",
    "plt.plot(Pd_15[:,1],Pd_15[:,0],label=\"$\\sigma_x=\\sigma_y=15$ $\\mu$m\",c='g')\n",
    "#plt.plot(Pd_20[:,1],Pd_20[:,0],label=\"$\\sigma_x=\\sigma_y=20$ $\\mu$m\",c='y')\n",
    "#plt.plot(Pd_25[:,1],Pd_25[:,0],label=\"$\\sigma_x=\\sigma_y=25$ $\\mu$m\")\n",
    "#plt.plot(Pd_E_Conserved_3[:,1],Pd_E_Conserved_3[:,0],label='$w_0$ = $\\sigma_T$, Energy Constant',c='g')\n",
    "# plt.plot(Pd_3_V_1[:,1],Pd_10_V_1[:,0],label='Spotsize 10 $\\mu$m Luxeics 1.0' ,c='r')\n",
    "\n",
    "# plt.plot(Pd_10_V_2[:,1],Pd_10_V_2[:,0],'--',label='Spotsize 10 $\\mu$m Luxeics 1.1',c='r')\n",
    "\n",
    "\n",
    "\n",
    "# plt.plot(Pd_SigmaT_10[:,1],Pd_SigmaT_10[:,0],'--',c='b')\n",
    "\n",
    "# plt.plot(Pd_SigmaT_w0_10[:,1],Pd_SigmaT_w0_10[:,0],'--',c='r')\n",
    "\n",
    "#plt.plot(Pd_E_Conserved_10[:,1],Pd_E_Conserved_10[:,0],'--',c='g')\n",
    "\n",
    "\n",
    "\n",
    "\n",
    "\n",
    "#plt.xlabel(r'Electron Beam Size $\\sigma_T$ (micron) ')\n",
    "plt.xlabel(r'Laser Beam Size $w_0$ ($\\mu$m)  ')\n",
    "#plt.ylabel(r'Photon Areal Density  ')\n",
    "plt.ylabel(r'Photon Areal Density ($\\mu$m$^{-2}$)')\n",
    "# plt.yscale('log')\n",
    "# plt.xscale('log')\n",
    "plt.title(f' $Electron$ $Beam$ $Focussed$ $at$ $Strong$ $IP$ \\n Pulse Energy = 100 mJ  ')\n",
    "plt.legend()\n",
    "\n",
    "\n",
    "path=f'{os.getcwd()}{os.sep}Photon_Density'\n",
    "plt.savefig(f'{path}\\LinearVsLinear.png',dpi=200)\n",
    "\n"
   ]
  },
  {
   "cell_type": "code",
   "execution_count": null,
   "id": "78f39b94",
   "metadata": {},
   "outputs": [],
   "source": []
  }
 ],
 "metadata": {
  "kernelspec": {
   "display_name": "Python 3",
   "language": "python",
   "name": "python3"
  },
  "language_info": {
   "codemirror_mode": {
    "name": "ipython",
    "version": 3
   },
   "file_extension": ".py",
   "mimetype": "text/x-python",
   "name": "python",
   "nbconvert_exporter": "python",
   "pygments_lexer": "ipython3",
   "version": "3.8.8"
  }
 },
 "nbformat": 4,
 "nbformat_minor": 5
}
